{
  "nbformat": 4,
  "nbformat_minor": 0,
  "metadata": {
    "colab": {
      "provenance": [],
      "gpuType": "T4",
      "include_colab_link": true
    },
    "kernelspec": {
      "name": "python3",
      "display_name": "Python 3"
    },
    "language_info": {
      "name": "python"
    },
    "accelerator": "GPU"
  },
  "cells": [
    {
      "cell_type": "markdown",
      "metadata": {
        "id": "view-in-github",
        "colab_type": "text"
      },
      "source": [
        "<a href=\"https://colab.research.google.com/github/freshpex/NLP-Assignment/blob/main/NLP_Assignment_Next_Word_Predictor.ipynb\" target=\"_parent\"><img src=\"https://colab.research.google.com/assets/colab-badge.svg\" alt=\"Open In Colab\"/></a>"
      ]
    },
    {
      "cell_type": "markdown",
      "source": [
        "# Load Data\n"
      ],
      "metadata": {
        "id": "zKbjnUgIeGbe"
      }
    },
    {
      "cell_type": "code",
      "source": [
        "# import these modules\n",
        "import nltk\n",
        "nltk.download('wordnet')\n",
        "\n",
        "from nltk.stem import WordNetLemmatizer\n",
        "\n",
        "lemmatizer = WordNetLemmatizer()\n",
        "\n",
        "print(\"rocks :\", lemmatizer.lemmatize(\"rocks\"))\n",
        "print(\"corpora :\", lemmatizer.lemmatize(\"corpora\"))\n",
        "\n",
        "# a denotes adjective in \"pos\"\n",
        "print(\"better :\", lemmatizer.lemmatize(\"corpora rocks cats\", pos=\"a\"))\n"
      ],
      "metadata": {
        "colab": {
          "base_uri": "https://localhost:8080/"
        },
        "id": "IFeom51obNdB",
        "outputId": "aee5d9f3-7ede-4977-dd9c-ad5a594f2f03"
      },
      "execution_count": null,
      "outputs": [
        {
          "output_type": "stream",
          "name": "stderr",
          "text": [
            "[nltk_data] Downloading package wordnet to /root/nltk_data...\n"
          ]
        },
        {
          "output_type": "stream",
          "name": "stdout",
          "text": [
            "rocks : rock\n",
            "corpora : corpus\n",
            "better : corpora rocks cats\n"
          ]
        }
      ]
    },
    {
      "cell_type": "code",
      "source": [
        "# This dataset contains ~25k tweets in English.\n",
        "!wget -O mini_twitter.txt https://raw.githubusercontent.com/mhassanist/nlp_text_datasets/ea689be7f27906d0e27b112bc11311d40967b5a3/mini_twitter.txt"
      ],
      "metadata": {
        "id": "5cxf52j-eWts",
        "colab": {
          "base_uri": "https://localhost:8080/"
        },
        "outputId": "3f851184-2d40-4f1c-c92c-2f4313223e85"
      },
      "execution_count": null,
      "outputs": [
        {
          "output_type": "stream",
          "name": "stdout",
          "text": [
            "--2024-06-03 21:38:53--  https://raw.githubusercontent.com/mhassanist/nlp_text_datasets/ea689be7f27906d0e27b112bc11311d40967b5a3/mini_twitter.txt\n",
            "Resolving raw.githubusercontent.com (raw.githubusercontent.com)... 185.199.108.133, 185.199.109.133, 185.199.111.133, ...\n",
            "Connecting to raw.githubusercontent.com (raw.githubusercontent.com)|185.199.108.133|:443... connected.\n",
            "HTTP request sent, awaiting response... 200 OK\n",
            "Length: 1747021 (1.7M) [text/plain]\n",
            "Saving to: ‘mini_twitter.txt’\n",
            "\n",
            "mini_twitter.txt    100%[===================>]   1.67M  --.-KB/s    in 0.05s   \n",
            "\n",
            "2024-06-03 21:38:54 (36.7 MB/s) - ‘mini_twitter.txt’ saved [1747021/1747021]\n",
            "\n"
          ]
        }
      ]
    },
    {
      "cell_type": "code",
      "source": [
        "# Open the file and loads its content\n",
        "text = ''\n",
        "with open('mini_twitter.txt', 'r') as content_file:\n",
        "    text = content_file.read()"
      ],
      "metadata": {
        "id": "mbXxQ4oefAlr"
      },
      "execution_count": null,
      "outputs": []
    },
    {
      "cell_type": "code",
      "source": [
        "# Make sure your data is loaded correctly.\n",
        "# Task 1: Print the first 100 character of the text\n",
        "\n",
        "# YOUR CODE HERE\n",
        "print(text[:100])\n"
      ],
      "metadata": {
        "id": "DCgQvHK_fRkG",
        "colab": {
          "base_uri": "https://localhost:8080/"
        },
        "outputId": "1ff73178-495a-49e8-e5d7-3f93cceaab1f"
      },
      "execution_count": null,
      "outputs": [
        {
          "output_type": "stream",
          "name": "stdout",
          "text": [
            "How are you? Btw thanks for the RT. You gonna be in DC anytime soon? Love to see you. Been way, way \n"
          ]
        }
      ]
    },
    {
      "cell_type": "markdown",
      "source": [
        "# Import required libraries"
      ],
      "metadata": {
        "id": "K2et8PvjfkaA"
      }
    },
    {
      "cell_type": "code",
      "source": [
        "import numpy as np\n",
        "import tensorflow as tf\n",
        "from tensorflow.keras.preprocessing.text import Tokenizer\n",
        "from tensorflow.keras.preprocessing.sequence import pad_sequences\n",
        "from tensorflow.keras.models import Sequential\n",
        "from tensorflow.keras.layers import Embedding, LSTM, Dense\n",
        "from tensorflow.keras.utils import to_categorical\n",
        "import nltk"
      ],
      "metadata": {
        "id": "GGDTjxg7f7YU"
      },
      "execution_count": null,
      "outputs": []
    },
    {
      "cell_type": "markdown",
      "source": [
        "# Tokenization"
      ],
      "metadata": {
        "id": "DvJSCxwQgNn3"
      }
    },
    {
      "cell_type": "code",
      "source": [
        "# Task 2.1: Convert the data to lowercase and split it into separate sentences. Store the result in the corpus variable\n",
        "corpus = text.lower().split(\"\\n\")\n",
        "\n",
        "print(corpus[0]) # how are you? btw thanks for the rt. you gonna be in dc anytime soon? love to see you. been way, way too long.\n"
      ],
      "metadata": {
        "id": "T172ha5ggPzL",
        "colab": {
          "base_uri": "https://localhost:8080/"
        },
        "outputId": "8c4c9330-5969-4572-b8a8-6b2b955e3825"
      },
      "execution_count": null,
      "outputs": [
        {
          "output_type": "stream",
          "name": "stdout",
          "text": [
            "how are you? btw thanks for the rt. you gonna be in dc anytime soon? love to see you. been way, way too long.\n"
          ]
        }
      ]
    },
    {
      "cell_type": "code",
      "source": [
        "# Task 2.2: Convert all sentences from the text corpus into n-gram sequences of tokens (numeric representations of words)\n",
        "\n",
        "from tensorflow.keras.preprocessing.text import Tokenizer\n",
        "\n",
        "# Initialize a tokenizer\n",
        "tokenizer = Tokenizer()\n",
        "\n",
        "# Fit it on the text\n",
        "tokenizer.fit_on_texts(corpus)\n"
      ],
      "metadata": {
        "id": "NT3Mc623ivlC"
      },
      "execution_count": null,
      "outputs": []
    },
    {
      "cell_type": "code",
      "source": [
        "# Task 2.3 : # Use the tokenizer to convert each sentence to n-gram sequence\n",
        "input_sequences = []\n",
        "\n",
        "# YOUR CODE HERE\n",
        "for line in corpus:\n",
        "    token_list = tokenizer.texts_to_sequences([line])[0]\n",
        "    for i in range(1, len(token_list)):\n",
        "        n_gram_sequence = token_list[:i+1]\n",
        "        input_sequences.append(n_gram_sequence)\n",
        "\n",
        "print(input_sequences[1]) # [54, 24, 5]\n",
        "\n"
      ],
      "metadata": {
        "id": "ZeSkucapjD32",
        "colab": {
          "base_uri": "https://localhost:8080/"
        },
        "outputId": "7ccd9e65-7729-4177-c00e-9804ada3c551"
      },
      "execution_count": null,
      "outputs": [
        {
          "output_type": "stream",
          "name": "stdout",
          "text": [
            "[56, 22, 5]\n"
          ]
        }
      ]
    },
    {
      "cell_type": "markdown",
      "source": [
        "# LSTM Model"
      ],
      "metadata": {
        "id": "9ERg9wbfj_uR"
      }
    },
    {
      "cell_type": "code",
      "source": [
        "# Task 3: Create LSTM model, compile it and fit it.\n",
        "\n",
        "from tensorflow.keras.preprocessing.sequence import pad_sequences\n",
        "from tensorflow.keras.models import Sequential\n",
        "from tensorflow.keras.layers import Embedding, LSTM, Dense\n",
        "\n",
        "max_sequence_len = max([len(x) for x in input_sequences])\n",
        "input_sequences = pad_sequences(input_sequences, maxlen=max_sequence_len, padding='pre')\n",
        "\n",
        "X, y = input_sequences[:,:-1], input_sequences[:,-1]\n",
        "y = to_categorical(y, num_classes=len(tokenizer.word_index) + 1)\n",
        "\n",
        "model = Sequential()\n",
        "model.add(Embedding(len(tokenizer.word_index) + 1, 10, input_length=max_sequence_len - 1))\n",
        "model.add(LSTM(100))\n",
        "model.add(Dense(len(tokenizer.word_index) + 1, activation='softmax'))\n",
        "\n",
        "model.compile(loss='categorical_crossentropy', optimizer='adam', metrics=['accuracy'])\n",
        "\n",
        "# Fit the model\n",
        "model.fit(X, y, epochs=20, verbose=1)\n",
        "\n",
        "\n"
      ],
      "metadata": {
        "id": "sRSr_icdj-_D",
        "collapsed": true
      },
      "execution_count": null,
      "outputs": []
    },
    {
      "cell_type": "markdown",
      "source": [
        "# Model Prediction"
      ],
      "metadata": {
        "id": "pzqPh9fIkl5y"
      }
    },
    {
      "cell_type": "code",
      "source": [
        "# Complete the following prediction function\n",
        "\n",
        "# Prediction function\n",
        "def predict_next_word(text):\n",
        "    predicted_word = ''\n",
        "\n",
        "\n",
        "    # YOUR CODE HERE\n",
        "\n",
        "    token_list = tokenizer.texts_to_sequences([text])[0]\n",
        "    token_list = pad_sequences([token_list], maxlen=max_sequence_len - 1, padding='pre')\n",
        "    predicted = model.predict(token_list, verbose=0)\n",
        "    predicted_word_index = np.argmax(predicted, axis=1)[0]\n",
        "    predicted_word = tokenizer.index_word[predicted_word_index]\n",
        "\n",
        "\n",
        "    return predicted_word\n",
        "\n",
        "\n",
        "# test the model\n",
        "print(predict_next_word(\"most people mess up\")) # many\n",
        "\n",
        "print(predict_next_word(\"most people mess up many\")) # many times\n"
      ],
      "metadata": {
        "id": "fFPvLZ7CklKa"
      },
      "execution_count": null,
      "outputs": []
    },
    {
      "cell_type": "markdown",
      "source": [
        "# Play with it !"
      ],
      "metadata": {
        "id": "I0loxGmLlBoN"
      }
    },
    {
      "cell_type": "code",
      "source": [
        "text = \"let's\" # starting text\n",
        "for _ in range(10): # generate the next 10 words\n",
        "  next = predict_next_word(text)\n",
        "  text = text + \" \" + next\n",
        "\n",
        "print(text)\n"
      ],
      "metadata": {
        "id": "P5wnINJwlFcP"
      },
      "execution_count": null,
      "outputs": []
    }
  ]
}