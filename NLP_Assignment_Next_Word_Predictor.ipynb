{
  "cells": [
    {
      "cell_type": "markdown",
      "metadata": {
        "colab_type": "text",
        "id": "view-in-github"
      },
      "source": [
        "<a href=\"https://colab.research.google.com/github/freshpex/NLP-Assignment/blob/main/NLP_Assignment_Next_Word_Predictor.ipynb\" target=\"_parent\"><img src=\"https://colab.research.google.com/assets/colab-badge.svg\" alt=\"Open In Colab\"/></a>"
      ]
    },
    {
      "cell_type": "markdown",
      "metadata": {
        "id": "zKbjnUgIeGbe"
      },
      "source": [
        "# Load Data\n"
      ]
    },
    {
      "cell_type": "code",
      "execution_count": 1,
      "metadata": {},
      "outputs": [
        {
          "name": "stderr",
          "output_type": "stream",
          "text": [
            "[nltk_data] Error loading punkt: <urlopen error [Errno 11001]\n",
            "[nltk_data]     getaddrinfo failed>\n",
            "[nltk_data] Error loading wordnet: <urlopen error [Errno 11001]\n",
            "[nltk_data]     getaddrinfo failed>\n"
          ]
        },
        {
          "name": "stdout",
          "output_type": "stream",
          "text": [
            "rocks : rock\n",
            "corpora : corpus\n",
            "better : corpora rocks cats\n"
          ]
        }
      ],
      "source": [
        "# import these modules\n",
        "import nltk\n",
        "nltk.download('punkt')\n",
        "nltk.download('wordnet')\n",
        "\n",
        "from nltk.stem import WordNetLemmatizer\n",
        "\n",
        "lemmatizer = WordNetLemmatizer()\n",
        "\n",
        "print(\"rocks :\", lemmatizer.lemmatize(\"rocks\"))\n",
        "print(\"corpora :\", lemmatizer.lemmatize(\"corpora\"))\n",
        "\n",
        "# a denotes adjective in \"pos\"\n",
        "print(\"better :\", lemmatizer.lemmatize(\"corpora rocks cats\", pos=\"a\"))\n"
      ]
    },
    {
      "cell_type": "code",
      "execution_count": 2,
      "metadata": {
        "colab": {
          "base_uri": "https://localhost:8080/"
        },
        "id": "5cxf52j-eWts",
        "outputId": "3f851184-2d40-4f1c-c92c-2f4313223e85"
      },
      "outputs": [],
      "source": [
        "# This dataset contains ~25k tweets in English.\n",
        "import requests\n",
        "\n",
        "url = 'https://raw.githubusercontent.com/mhassanist/nlp_text_datasets/ea689be7f27906d0e27b112bc11311d40967b5a3/mini_twitter.txt'\n",
        "response = requests.get(url)"
      ]
    },
    {
      "cell_type": "code",
      "execution_count": 3,
      "metadata": {},
      "outputs": [],
      "source": [
        "with open('mini_twitter.txt', 'wb') as file:\n",
        "    file.write(response.content)"
      ]
    },
    {
      "cell_type": "code",
      "execution_count": 4,
      "metadata": {
        "id": "mbXxQ4oefAlr"
      },
      "outputs": [],
      "source": [
        "# Open the file and loads its content\n",
        "text = ''\n",
        "with open('mini_twitter.txt', 'r', encoding='utf-8') as content_file:\n",
        "    text = content_file.read()"
      ]
    },
    {
      "cell_type": "code",
      "execution_count": 5,
      "metadata": {
        "colab": {
          "base_uri": "https://localhost:8080/"
        },
        "id": "DCgQvHK_fRkG",
        "outputId": "1ff73178-495a-49e8-e5d7-3f93cceaab1f"
      },
      "outputs": [
        {
          "name": "stdout",
          "output_type": "stream",
          "text": [
            "How are you? Btw thanks for the RT. You gonna be in DC anytime soon? Love to see you. Been way, way \n"
          ]
        }
      ],
      "source": [
        "# Make sure your data is loaded correctly.\n",
        "# Task 1: Print the first 100 character of the text\n",
        "\n",
        "# YOUR CODE HERE\n",
        "print(text[:100])\n"
      ]
    },
    {
      "cell_type": "markdown",
      "metadata": {
        "id": "K2et8PvjfkaA"
      },
      "source": [
        "# Import required libraries"
      ]
    },
    {
      "cell_type": "code",
      "execution_count": 6,
      "metadata": {
        "id": "GGDTjxg7f7YU"
      },
      "outputs": [],
      "source": [
        "import numpy as np\n",
        "import tensorflow as tf\n",
        "from tensorflow.keras.preprocessing.text import Tokenizer\n",
        "from tensorflow.keras.preprocessing.sequence import pad_sequences\n",
        "from tensorflow.keras.models import Sequential\n",
        "from tensorflow.keras.layers import Embedding, LSTM, Dense\n",
        "from tensorflow.keras.utils import to_categorical\n",
        "from tensorflow.keras.models import Sequential\n",
        "from tensorflow.keras.layers import Embedding, LSTM, Dense, Bidirectional, Dropout\n",
        "from tensorflow.keras.optimizers import Adam\n",
        "from tensorflow.keras.preprocessing.sequence import pad_sequences\n",
        "from tensorflow.keras.activations import softmax"
      ]
    },
    {
      "cell_type": "markdown",
      "metadata": {
        "id": "DvJSCxwQgNn3"
      },
      "source": [
        "# Tokenization"
      ]
    },
    {
      "cell_type": "code",
      "execution_count": 7,
      "metadata": {
        "colab": {
          "base_uri": "https://localhost:8080/"
        },
        "id": "T172ha5ggPzL",
        "outputId": "8c4c9330-5969-4572-b8a8-6b2b955e3825"
      },
      "outputs": [
        {
          "name": "stdout",
          "output_type": "stream",
          "text": [
            "how are you? btw thanks for the rt. you gonna be in dc anytime soon? love to see you. been way, way too long.\n"
          ]
        }
      ],
      "source": [
        "# Task 2.1: Convert the data to lowercase and split it into separate sentences. Store the result in the corpus variable\n",
        "corpus = text.lower().split(\"\\n\")\n",
        "\n",
        "print(corpus[0]) # how are you? btw thanks for the rt. you gonna be in dc anytime soon? love to see you. been way, way too long.\n"
      ]
    },
    {
      "cell_type": "code",
      "execution_count": 8,
      "metadata": {
        "id": "NT3Mc623ivlC"
      },
      "outputs": [],
      "source": [
        "# Task 2.2: Convert all sentences from the text corpus into n-gram sequences of tokens (numeric representations of words)\n",
        "\n",
        "tokenizer = Tokenizer()\n",
        "\n",
        "# Fit it on the text\n",
        "tokenizer.fit_on_texts(corpus)\n",
        "total_words = len(tokenizer.word_index) + 1\n"
      ]
    },
    {
      "cell_type": "code",
      "execution_count": 9,
      "metadata": {
        "colab": {
          "base_uri": "https://localhost:8080/"
        },
        "id": "ZeSkucapjD32",
        "outputId": "7ccd9e65-7729-4177-c00e-9804ada3c551"
      },
      "outputs": [
        {
          "name": "stdout",
          "output_type": "stream",
          "text": [
            "[56, 22, 5]\n"
          ]
        }
      ],
      "source": [
        "# Task 2.3 : # Use the tokenizer to convert each sentence to n-gram sequence\n",
        "input_sequences = []\n",
        "\n",
        "# YOUR CODE HERE\n",
        "for line in corpus:\n",
        "    token_list = tokenizer.texts_to_sequences([line])[0]\n",
        "    for i in range(1, len(token_list)):\n",
        "        n_gram_sequence = token_list[:i+1]\n",
        "        input_sequences.append(n_gram_sequence)\n",
        "\n",
        "print(input_sequences[1]) # [54, 24, 5]\n"
      ]
    },
    {
      "cell_type": "markdown",
      "metadata": {
        "id": "9ERg9wbfj_uR"
      },
      "source": [
        "# LSTM Model"
      ]
    },
    {
      "cell_type": "code",
      "execution_count": 10,
      "metadata": {
        "collapsed": true,
        "id": "sRSr_icdj-_D"
      },
      "outputs": [],
      "source": [
        "# Task 3: Create LSTM model, compile it and fit it.\n",
        "max_sequence_len = max([len(x) for x in input_sequences])\n",
        "input_sequences = np.array(pad_sequences(input_sequences, maxlen=max_sequence_len, padding='pre'))\n",
        "\n",
        "x, labels = input_sequences[:,:-1], input_sequences[:,-1]\n",
        "\n",
        "y = labels\n"
      ]
    },
    {
      "cell_type": "code",
      "execution_count": 11,
      "metadata": {},
      "outputs": [
        {
          "name": "stderr",
          "output_type": "stream",
          "text": [
            "c:\\Users\\epeki\\scoop\\apps\\python\\current\\Lib\\site-packages\\keras\\src\\layers\\core\\embedding.py:90: UserWarning: Argument `input_length` is deprecated. Just remove it.\n",
            "  warnings.warn(\n"
          ]
        }
      ],
      "source": [
        "model = Sequential()\n",
        "model.add(Embedding(total_words, 100, input_length=max_sequence_len - 1))\n",
        "model.add(Bidirectional(LSTM(100, return_sequences=True)))\n",
        "model.add(Dropout(0.5))\n",
        "model.add(LSTM(100))\n",
        "model.add(Dense(total_words, activation='softmax'))\n",
        "\n",
        "adam = Adam(learning_rate=0.01)\n"
      ]
    },
    {
      "cell_type": "code",
      "execution_count": 12,
      "metadata": {},
      "outputs": [
        {
          "name": "stdout",
          "output_type": "stream",
          "text": [
            "Epoch 1/100\n",
            "\u001b[1m  8/100\u001b[0m \u001b[32m━\u001b[0m\u001b[37m━━━━━━━━━━━━━━━━━━━\u001b[0m \u001b[1m13:16\u001b[0m 9s/step - accuracy: 0.0120 - loss: 10.1908"
          ]
        }
      ],
      "source": [
        "# compile the model\n",
        "model.compile(loss='sparse_categorical_crossentropy', optimizer='adam', metrics=['accuracy'])\n",
        "\n",
        "# Fit the model\n",
        "model.fit(x, y, epochs=100, steps_per_epoch=100, verbose=1)\n"
      ]
    },
    {
      "cell_type": "code",
      "execution_count": null,
      "metadata": {},
      "outputs": [],
      "source": []
    },
    {
      "cell_type": "markdown",
      "metadata": {
        "id": "pzqPh9fIkl5y"
      },
      "source": [
        "# Model Prediction"
      ]
    },
    {
      "cell_type": "code",
      "execution_count": null,
      "metadata": {
        "id": "fFPvLZ7CklKa"
      },
      "outputs": [],
      "source": [
        "# Complete the following prediction function\n",
        "\n",
        "# Prediction function\n",
        "def predict_next_word(text):\n",
        "    predicted_word = ''\n",
        "\n",
        "\n",
        "    # YOUR CODE HERE\n",
        "\n",
        "    token_list = tokenizer.texts_to_sequences([text])[0]\n",
        "    token_list = pad_sequences([token_list], maxlen=max_sequence_len - 1, padding='pre')\n",
        "    predicted = model.predict(token_list, verbose=0)\n",
        "    predicted_word_index = np.argmax(predicted, axis=1)[0]\n",
        "    predicted_word = tokenizer.index_word[predicted_word_index]\n",
        "\n",
        "\n",
        "    return predicted_word\n",
        "\n",
        "\n",
        "# test the model\n",
        "print(predict_next_word(\"most people mess up\")) # many\n",
        "\n",
        "print(predict_next_word(\"most people mess up many\")) # many times\n"
      ]
    },
    {
      "cell_type": "markdown",
      "metadata": {
        "id": "I0loxGmLlBoN"
      },
      "source": [
        "# Play with it !"
      ]
    },
    {
      "cell_type": "code",
      "execution_count": null,
      "metadata": {
        "id": "P5wnINJwlFcP"
      },
      "outputs": [],
      "source": [
        "text = \"let's\" # starting text\n",
        "for _ in range(10): # generate the next 10 words\n",
        "  next = predict_next_word(text)\n",
        "  text = text + \" \" + next\n",
        "\n",
        "print(text)\n"
      ]
    }
  ],
  "metadata": {
    "accelerator": "GPU",
    "colab": {
      "gpuType": "T4",
      "include_colab_link": true,
      "provenance": []
    },
    "kernelspec": {
      "display_name": "Python 3",
      "name": "python3"
    },
    "language_info": {
      "codemirror_mode": {
        "name": "ipython",
        "version": 3
      },
      "file_extension": ".py",
      "mimetype": "text/x-python",
      "name": "python",
      "nbconvert_exporter": "python",
      "pygments_lexer": "ipython3",
      "version": "3.12.3"
    }
  },
  "nbformat": 4,
  "nbformat_minor": 0
}
