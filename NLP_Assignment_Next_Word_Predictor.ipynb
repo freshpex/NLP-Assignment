{
  "cells": [
    {
      "cell_type": "markdown",
      "metadata": {
        "id": "zKbjnUgIeGbe"
      },
      "source": [
        "# Load Data\n"
      ]
    },
    {
      "cell_type": "code",
      "execution_count": 1,
      "metadata": {},
      "outputs": [
        {
          "name": "stderr",
          "output_type": "stream",
          "text": [
            "[nltk_data] Error loading punkt: <urlopen error [Errno 11001]\n",
            "[nltk_data]     getaddrinfo failed>\n",
            "[nltk_data] Error loading wordnet: <urlopen error [Errno 11001]\n",
            "[nltk_data]     getaddrinfo failed>\n"
          ]
        },
        {
          "name": "stdout",
          "output_type": "stream",
          "text": [
            "rocks : rock\n",
            "corpora : corpus\n",
            "better : corpora rocks cats\n"
          ]
        }
      ],
      "source": [
        "# import these modules\n",
        "import nltk\n",
        "nltk.download('punkt')\n",
        "nltk.download('wordnet')\n",
        "\n",
        "from nltk.stem import WordNetLemmatizer\n",
        "\n",
        "lemmatizer = WordNetLemmatizer()\n",
        "\n",
        "print(\"rocks :\", lemmatizer.lemmatize(\"rocks\"))\n",
        "print(\"corpora :\", lemmatizer.lemmatize(\"corpora\"))\n",
        "\n",
        "# a denotes adjective in \"pos\"\n",
        "print(\"better :\", lemmatizer.lemmatize(\"corpora rocks cats\", pos=\"a\"))\n"
      ]
    },
    {
      "cell_type": "code",
      "execution_count": 2,
      "metadata": {
        "colab": {
          "base_uri": "https://localhost:8080/"
        },
        "id": "5cxf52j-eWts",
        "outputId": "3f851184-2d40-4f1c-c92c-2f4313223e85"
      },
      "outputs": [],
      "source": [
        "# This dataset contains ~25k tweets in English.\n",
        "import requests\n",
        "\n",
        "url = 'https://raw.githubusercontent.com/mhassanist/nlp_text_datasets/ea689be7f27906d0e27b112bc11311d40967b5a3/mini_twitter.txt'\n",
        "response = requests.get(url)"
      ]
    },
    {
      "cell_type": "code",
      "execution_count": 3,
      "metadata": {},
      "outputs": [],
      "source": [
        "with open('mini_twitter.txt', 'wb') as file:\n",
        "    file.write(response.content)"
      ]
    },
    {
      "cell_type": "code",
      "execution_count": 4,
      "metadata": {
        "id": "mbXxQ4oefAlr"
      },
      "outputs": [],
      "source": [
        "# Open the file and loads its content\n",
        "text = ''\n",
        "with open('mini_twitter.txt', 'r', encoding='utf-8') as content_file:\n",
        "    text = content_file.read()"
      ]
    },
    {
      "cell_type": "code",
      "execution_count": 5,
      "metadata": {
        "colab": {
          "base_uri": "https://localhost:8080/"
        },
        "id": "DCgQvHK_fRkG",
        "outputId": "1ff73178-495a-49e8-e5d7-3f93cceaab1f"
      },
      "outputs": [
        {
          "name": "stdout",
          "output_type": "stream",
          "text": [
            "How are you? Btw thanks for the RT. You gonna be in DC anytime soon? Love to see you. Been way, way \n"
          ]
        }
      ],
      "source": [
        "# Make sure your data is loaded correctly.\n",
        "# Task 1: Print the first 100 character of the text\n",
        "\n",
        "# YOUR CODE HERE\n",
        "print(text[:100])\n"
      ]
    },
    {
      "cell_type": "markdown",
      "metadata": {
        "id": "K2et8PvjfkaA"
      },
      "source": [
        "# Import required libraries"
      ]
    },
    {
      "cell_type": "code",
      "execution_count": 6,
      "metadata": {
        "id": "GGDTjxg7f7YU"
      },
      "outputs": [],
      "source": [
        "import numpy as np\n",
        "import tensorflow as tf\n",
        "from tensorflow.keras.preprocessing.text import Tokenizer\n",
        "from tensorflow.keras.preprocessing.sequence import pad_sequences\n",
        "from tensorflow.keras.models import Sequential\n",
        "from tensorflow.keras.layers import Embedding, LSTM, Dense\n",
        "from tensorflow.keras.utils import to_categorical\n",
        "from tensorflow.keras.models import Sequential\n",
        "from tensorflow.keras.layers import Embedding, LSTM, Dense, Bidirectional, Dropout\n",
        "from tensorflow.keras.optimizers import Adam\n",
        "from tensorflow.keras.preprocessing.sequence import pad_sequences\n",
        "from tensorflow.keras.activations import softmax"
      ]
    },
    {
      "cell_type": "markdown",
      "metadata": {
        "id": "DvJSCxwQgNn3"
      },
      "source": [
        "# Tokenization"
      ]
    },
    {
      "cell_type": "code",
      "execution_count": 7,
      "metadata": {
        "colab": {
          "base_uri": "https://localhost:8080/"
        },
        "id": "T172ha5ggPzL",
        "outputId": "8c4c9330-5969-4572-b8a8-6b2b955e3825"
      },
      "outputs": [
        {
          "name": "stdout",
          "output_type": "stream",
          "text": [
            "how are you? btw thanks for the rt. you gonna be in dc anytime soon? love to see you. been way, way too long.\n"
          ]
        }
      ],
      "source": [
        "# Task 2.1: Convert the data to lowercase and split it into separate sentences. Store the result in the corpus variable\n",
        "corpus = text.lower().split(\"\\n\")\n",
        "\n",
        "print(corpus[0]) # how are you? btw thanks for the rt. you gonna be in dc anytime soon? love to see you. been way, way too long.\n"
      ]
    },
    {
      "cell_type": "code",
      "execution_count": 8,
      "metadata": {
        "id": "NT3Mc623ivlC"
      },
      "outputs": [],
      "source": [
        "# Task 2.2: Convert all sentences from the text corpus into n-gram sequences of tokens (numeric representations of words)\n",
        "\n",
        "tokenizer = Tokenizer()\n",
        "\n",
        "# Fit it on the text\n",
        "tokenizer.fit_on_texts(corpus)\n",
        "total_words = len(tokenizer.word_index) + 1\n"
      ]
    },
    {
      "cell_type": "code",
      "execution_count": 9,
      "metadata": {
        "colab": {
          "base_uri": "https://localhost:8080/"
        },
        "id": "ZeSkucapjD32",
        "outputId": "7ccd9e65-7729-4177-c00e-9804ada3c551"
      },
      "outputs": [
        {
          "name": "stdout",
          "output_type": "stream",
          "text": [
            "[56, 22, 5]\n"
          ]
        }
      ],
      "source": [
        "# Task 2.3 : # Use the tokenizer to convert each sentence to n-gram sequence\n",
        "input_sequences = []\n",
        "\n",
        "# YOUR CODE HERE\n",
        "for line in corpus:\n",
        "    token_list = tokenizer.texts_to_sequences([line])[0]\n",
        "    for i in range(1, len(token_list)):\n",
        "        n_gram_sequence = token_list[:i+1]\n",
        "        input_sequences.append(n_gram_sequence)\n",
        "\n",
        "print(input_sequences[1]) # [54, 24, 5]\n"
      ]
    },
    {
      "cell_type": "markdown",
      "metadata": {
        "id": "9ERg9wbfj_uR"
      },
      "source": [
        "# LSTM Model"
      ]
    },
    {
      "cell_type": "code",
      "execution_count": 10,
      "metadata": {
        "collapsed": true,
        "id": "sRSr_icdj-_D"
      },
      "outputs": [],
      "source": [
        "# Task 3: Create LSTM model, compile it and fit it.\n",
        "max_sequence_len = max([len(x) for x in input_sequences])\n",
        "input_sequences = np.array(pad_sequences(input_sequences, maxlen=max_sequence_len, padding='pre'))\n",
        "\n",
        "x, labels = input_sequences[:,:-1], input_sequences[:,-1]\n",
        "\n",
        "y = labels\n"
      ]
    },
    {
      "cell_type": "code",
      "execution_count": 11,
      "metadata": {},
      "outputs": [
        {
          "name": "stderr",
          "output_type": "stream",
          "text": [
            "c:\\Users\\epeki\\scoop\\apps\\python\\current\\Lib\\site-packages\\keras\\src\\layers\\core\\embedding.py:90: UserWarning: Argument `input_length` is deprecated. Just remove it.\n",
            "  warnings.warn(\n"
          ]
        }
      ],
      "source": [
        "model = Sequential()\n",
        "model.add(Embedding(total_words, 100, input_length=max_sequence_len - 1))\n",
        "model.add(Bidirectional(LSTM(100, return_sequences=True)))\n",
        "model.add(Dropout(0.5))\n",
        "model.add(LSTM(100))\n",
        "model.add(Dense(total_words, activation='softmax'))\n",
        "\n",
        "adam = Adam(learning_rate=0.01)\n"
      ]
    },
    {
      "cell_type": "code",
      "execution_count": 12,
      "metadata": {},
      "outputs": [
        {
          "name": "stdout",
          "output_type": "stream",
          "text": [
            "Epoch 1/100\n",
            "\u001b[1m100/100\u001b[0m \u001b[32m━━━━━━━━━━━━━━━━━━━━\u001b[0m\u001b[37m\u001b[0m \u001b[1m1035s\u001b[0m 10s/step - accuracy: 0.0276 - loss: 8.7861\n",
            "Epoch 2/100\n",
            "\u001b[1m100/100\u001b[0m \u001b[32m━━━━━━━━━━━━━━━━━━━━\u001b[0m\u001b[37m\u001b[0m \u001b[1m0s\u001b[0m 1ms/step - accuracy: 0.0000e+00 - loss: 0.0000e+00\n",
            "Epoch 3/100\n"
          ]
        },
        {
          "name": "stderr",
          "output_type": "stream",
          "text": [
            "c:\\Users\\epeki\\scoop\\apps\\python\\current\\Lib\\contextlib.py:158: UserWarning: Your input ran out of data; interrupting training. Make sure that your dataset or generator can generate at least `steps_per_epoch * epochs` batches. You may need to use the `.repeat()` function when building your dataset.\n",
            "  self.gen.throw(value)\n"
          ]
        },
        {
          "name": "stdout",
          "output_type": "stream",
          "text": [
            "\u001b[1m100/100\u001b[0m \u001b[32m━━━━━━━━━━━━━━━━━━━━\u001b[0m\u001b[37m\u001b[0m \u001b[1m953s\u001b[0m 10s/step - accuracy: 0.0314 - loss: 7.2880\n",
            "Epoch 4/100\n",
            "\u001b[1m100/100\u001b[0m \u001b[32m━━━━━━━━━━━━━━━━━━━━\u001b[0m\u001b[37m\u001b[0m \u001b[1m0s\u001b[0m 208us/step - accuracy: 0.0000e+00 - loss: 0.0000e+00\n",
            "Epoch 5/100\n",
            "\u001b[1m100/100\u001b[0m \u001b[32m━━━━━━━━━━━━━━━━━━━━\u001b[0m\u001b[37m\u001b[0m \u001b[1m991s\u001b[0m 10s/step - accuracy: 0.0315 - loss: 7.2893\n",
            "Epoch 6/100\n",
            "\u001b[1m100/100\u001b[0m \u001b[32m━━━━━━━━━━━━━━━━━━━━\u001b[0m\u001b[37m\u001b[0m \u001b[1m0s\u001b[0m 188us/step - accuracy: 0.0000e+00 - loss: 0.0000e+00\n",
            "Epoch 7/100\n",
            "\u001b[1m100/100\u001b[0m \u001b[32m━━━━━━━━━━━━━━━━━━━━\u001b[0m\u001b[37m\u001b[0m \u001b[1m836s\u001b[0m 8s/step - accuracy: 0.0316 - loss: 7.2059\n",
            "Epoch 8/100\n",
            "\u001b[1m100/100\u001b[0m \u001b[32m━━━━━━━━━━━━━━━━━━━━\u001b[0m\u001b[37m\u001b[0m \u001b[1m0s\u001b[0m 212us/step - accuracy: 0.0000e+00 - loss: 0.0000e+00\n",
            "Epoch 9/100\n",
            "\u001b[1m100/100\u001b[0m \u001b[32m━━━━━━━━━━━━━━━━━━━━\u001b[0m\u001b[37m\u001b[0m \u001b[1m898s\u001b[0m 9s/step - accuracy: 0.0367 - loss: 7.1345\n",
            "Epoch 10/100\n",
            "\u001b[1m100/100\u001b[0m \u001b[32m━━━━━━━━━━━━━━━━━━━━\u001b[0m\u001b[37m\u001b[0m \u001b[1m0s\u001b[0m 135us/step - accuracy: 0.0000e+00 - loss: 0.0000e+00\n",
            "Epoch 11/100\n",
            "\u001b[1m100/100\u001b[0m \u001b[32m━━━━━━━━━━━━━━━━━━━━\u001b[0m\u001b[37m\u001b[0m \u001b[1m1154s\u001b[0m 12s/step - accuracy: 0.0449 - loss: 7.0845\n",
            "Epoch 12/100\n",
            "\u001b[1m100/100\u001b[0m \u001b[32m━━━━━━━━━━━━━━━━━━━━\u001b[0m\u001b[37m\u001b[0m \u001b[1m0s\u001b[0m 260us/step - accuracy: 0.0000e+00 - loss: 0.0000e+00\n",
            "Epoch 13/100\n",
            "\u001b[1m100/100\u001b[0m \u001b[32m━━━━━━━━━━━━━━━━━━━━\u001b[0m\u001b[37m\u001b[0m \u001b[1m933s\u001b[0m 9s/step - accuracy: 0.0470 - loss: 7.0004\n",
            "Epoch 14/100\n",
            "\u001b[1m100/100\u001b[0m \u001b[32m━━━━━━━━━━━━━━━━━━━━\u001b[0m\u001b[37m\u001b[0m \u001b[1m0s\u001b[0m 140us/step - accuracy: 0.0000e+00 - loss: 0.0000e+00\n",
            "Epoch 15/100\n",
            "\u001b[1m100/100\u001b[0m \u001b[32m━━━━━━━━━━━━━━━━━━━━\u001b[0m\u001b[37m\u001b[0m \u001b[1m768s\u001b[0m 8s/step - accuracy: 0.0510 - loss: 6.9433\n",
            "Epoch 16/100\n",
            "\u001b[1m100/100\u001b[0m \u001b[32m━━━━━━━━━━━━━━━━━━━━\u001b[0m\u001b[37m\u001b[0m \u001b[1m0s\u001b[0m 171us/step - accuracy: 0.0000e+00 - loss: 0.0000e+00\n",
            "Epoch 17/100\n",
            "\u001b[1m100/100\u001b[0m \u001b[32m━━━━━━━━━━━━━━━━━━━━\u001b[0m\u001b[37m\u001b[0m \u001b[1m944s\u001b[0m 9s/step - accuracy: 0.0529 - loss: 6.8950\n",
            "Epoch 18/100\n",
            "\u001b[1m100/100\u001b[0m \u001b[32m━━━━━━━━━━━━━━━━━━━━\u001b[0m\u001b[37m\u001b[0m \u001b[1m0s\u001b[0m 242us/step - accuracy: 0.0000e+00 - loss: 0.0000e+00\n",
            "Epoch 19/100\n",
            "\u001b[1m100/100\u001b[0m \u001b[32m━━━━━━━━━━━━━━━━━━━━\u001b[0m\u001b[37m\u001b[0m \u001b[1m839s\u001b[0m 8s/step - accuracy: 0.0568 - loss: 6.8444\n",
            "Epoch 20/100\n",
            "\u001b[1m100/100\u001b[0m \u001b[32m━━━━━━━━━━━━━━━━━━━━\u001b[0m\u001b[37m\u001b[0m \u001b[1m0s\u001b[0m 413us/step - accuracy: 0.0000e+00 - loss: 0.0000e+00\n",
            "Epoch 21/100\n",
            "\u001b[1m100/100\u001b[0m \u001b[32m━━━━━━━━━━━━━━━━━━━━\u001b[0m\u001b[37m\u001b[0m \u001b[1m932s\u001b[0m 9s/step - accuracy: 0.0606 - loss: 6.7812\n",
            "Epoch 22/100\n",
            "\u001b[1m100/100\u001b[0m \u001b[32m━━━━━━━━━━━━━━━━━━━━\u001b[0m\u001b[37m\u001b[0m \u001b[1m0s\u001b[0m 182us/step - accuracy: 0.0000e+00 - loss: 0.0000e+00\n",
            "Epoch 23/100\n",
            "\u001b[1m100/100\u001b[0m \u001b[32m━━━━━━━━━━━━━━━━━━━━\u001b[0m\u001b[37m\u001b[0m \u001b[1m872s\u001b[0m 9s/step - accuracy: 0.0637 - loss: 6.7396\n",
            "Epoch 24/100\n",
            "\u001b[1m100/100\u001b[0m \u001b[32m━━━━━━━━━━━━━━━━━━━━\u001b[0m\u001b[37m\u001b[0m \u001b[1m0s\u001b[0m 204us/step - accuracy: 0.0000e+00 - loss: 0.0000e+00\n",
            "Epoch 25/100\n",
            "\u001b[1m100/100\u001b[0m \u001b[32m━━━━━━━━━━━━━━━━━━━━\u001b[0m\u001b[37m\u001b[0m \u001b[1m835s\u001b[0m 8s/step - accuracy: 0.0682 - loss: 6.6884\n",
            "Epoch 26/100\n",
            "\u001b[1m100/100\u001b[0m \u001b[32m━━━━━━━━━━━━━━━━━━━━\u001b[0m\u001b[37m\u001b[0m \u001b[1m0s\u001b[0m 356us/step - accuracy: 0.0000e+00 - loss: 0.0000e+00\n",
            "Epoch 27/100\n",
            "\u001b[1m100/100\u001b[0m \u001b[32m━━━━━━━━━━━━━━━━━━━━\u001b[0m\u001b[37m\u001b[0m \u001b[1m839s\u001b[0m 8s/step - accuracy: 0.0724 - loss: 6.6468\n",
            "Epoch 28/100\n",
            "\u001b[1m100/100\u001b[0m \u001b[32m━━━━━━━━━━━━━━━━━━━━\u001b[0m\u001b[37m\u001b[0m \u001b[1m0s\u001b[0m 178us/step - accuracy: 0.0000e+00 - loss: 0.0000e+00\n",
            "Epoch 29/100\n",
            "\u001b[1m100/100\u001b[0m \u001b[32m━━━━━━━━━━━━━━━━━━━━\u001b[0m\u001b[37m\u001b[0m \u001b[1m1042s\u001b[0m 10s/step - accuracy: 0.0766 - loss: 6.5930\n",
            "Epoch 30/100\n",
            "\u001b[1m100/100\u001b[0m \u001b[32m━━━━━━━━━━━━━━━━━━━━\u001b[0m\u001b[37m\u001b[0m \u001b[1m0s\u001b[0m 427us/step - accuracy: 0.0000e+00 - loss: 0.0000e+00\n",
            "Epoch 31/100\n",
            "\u001b[1m100/100\u001b[0m \u001b[32m━━━━━━━━━━━━━━━━━━━━\u001b[0m\u001b[37m\u001b[0m \u001b[1m1235s\u001b[0m 12s/step - accuracy: 0.0809 - loss: 6.5545\n",
            "Epoch 32/100\n",
            "\u001b[1m100/100\u001b[0m \u001b[32m━━━━━━━━━━━━━━━━━━━━\u001b[0m\u001b[37m\u001b[0m \u001b[1m0s\u001b[0m 157us/step - accuracy: 0.0000e+00 - loss: 0.0000e+00\n",
            "Epoch 33/100\n",
            "\u001b[1m100/100\u001b[0m \u001b[32m━━━━━━━━━━━━━━━━━━━━\u001b[0m\u001b[37m\u001b[0m \u001b[1m1050s\u001b[0m 10s/step - accuracy: 0.0839 - loss: 6.5083\n",
            "Epoch 34/100\n",
            "\u001b[1m100/100\u001b[0m \u001b[32m━━━━━━━━━━━━━━━━━━━━\u001b[0m\u001b[37m\u001b[0m \u001b[1m0s\u001b[0m 105us/step - accuracy: 0.0000e+00 - loss: 0.0000e+00\n",
            "Epoch 35/100\n",
            "\u001b[1m100/100\u001b[0m \u001b[32m━━━━━━━━━━━━━━━━━━━━\u001b[0m\u001b[37m\u001b[0m \u001b[1m875s\u001b[0m 9s/step - accuracy: 0.0887 - loss: 6.4530\n",
            "Epoch 36/100\n",
            "\u001b[1m100/100\u001b[0m \u001b[32m━━━━━━━━━━━━━━━━━━━━\u001b[0m\u001b[37m\u001b[0m \u001b[1m0s\u001b[0m 254us/step - accuracy: 0.0000e+00 - loss: 0.0000e+00\n",
            "Epoch 37/100\n",
            "\u001b[1m100/100\u001b[0m \u001b[32m━━━━━━━━━━━━━━━━━━━━\u001b[0m\u001b[37m\u001b[0m \u001b[1m797s\u001b[0m 8s/step - accuracy: 0.0903 - loss: 6.4205\n",
            "Epoch 38/100\n",
            "\u001b[1m100/100\u001b[0m \u001b[32m━━━━━━━━━━━━━━━━━━━━\u001b[0m\u001b[37m\u001b[0m \u001b[1m0s\u001b[0m 169us/step - accuracy: 0.0000e+00 - loss: 0.0000e+00\n",
            "Epoch 39/100\n",
            "\u001b[1m100/100\u001b[0m \u001b[32m━━━━━━━━━━━━━━━━━━━━\u001b[0m\u001b[37m\u001b[0m \u001b[1m731s\u001b[0m 7s/step - accuracy: 0.0949 - loss: 6.3631\n",
            "Epoch 40/100\n",
            "\u001b[1m100/100\u001b[0m \u001b[32m━━━━━━━━━━━━━━━━━━━━\u001b[0m\u001b[37m\u001b[0m \u001b[1m0s\u001b[0m 106us/step - accuracy: 0.0000e+00 - loss: 0.0000e+00\n",
            "Epoch 41/100\n",
            "\u001b[1m100/100\u001b[0m \u001b[32m━━━━━━━━━━━━━━━━━━━━\u001b[0m\u001b[37m\u001b[0m \u001b[1m1490s\u001b[0m 15s/step - accuracy: 0.0991 - loss: 6.3151\n",
            "Epoch 42/100\n",
            "\u001b[1m100/100\u001b[0m \u001b[32m━━━━━━━━━━━━━━━━━━━━\u001b[0m\u001b[37m\u001b[0m \u001b[1m0s\u001b[0m 113us/step - accuracy: 0.0000e+00 - loss: 0.0000e+00\n",
            "Epoch 43/100\n",
            "\u001b[1m100/100\u001b[0m \u001b[32m━━━━━━━━━━━━━━━━━━━━\u001b[0m\u001b[37m\u001b[0m \u001b[1m820s\u001b[0m 8s/step - accuracy: 0.1012 - loss: 6.2697\n",
            "Epoch 44/100\n",
            "\u001b[1m100/100\u001b[0m \u001b[32m━━━━━━━━━━━━━━━━━━━━\u001b[0m\u001b[37m\u001b[0m \u001b[1m0s\u001b[0m 277us/step - accuracy: 0.0000e+00 - loss: 0.0000e+00\n",
            "Epoch 45/100\n",
            "\u001b[1m100/100\u001b[0m \u001b[32m━━━━━━━━━━━━━━━━━━━━\u001b[0m\u001b[37m\u001b[0m \u001b[1m686s\u001b[0m 7s/step - accuracy: 0.1048 - loss: 6.2274\n",
            "Epoch 46/100\n",
            "\u001b[1m100/100\u001b[0m \u001b[32m━━━━━━━━━━━━━━━━━━━━\u001b[0m\u001b[37m\u001b[0m \u001b[1m0s\u001b[0m 158us/step - accuracy: 0.0000e+00 - loss: 0.0000e+00\n",
            "Epoch 47/100\n",
            "\u001b[1m100/100\u001b[0m \u001b[32m━━━━━━━━━━━━━━━━━━━━\u001b[0m\u001b[37m\u001b[0m \u001b[1m935s\u001b[0m 9s/step - accuracy: 0.1075 - loss: 6.1889\n",
            "Epoch 48/100\n",
            "\u001b[1m100/100\u001b[0m \u001b[32m━━━━━━━━━━━━━━━━━━━━\u001b[0m\u001b[37m\u001b[0m \u001b[1m0s\u001b[0m 649us/step - accuracy: 0.0000e+00 - loss: 0.0000e+00\n",
            "Epoch 49/100\n",
            "\u001b[1m100/100\u001b[0m \u001b[32m━━━━━━━━━━━━━━━━━━━━\u001b[0m\u001b[37m\u001b[0m \u001b[1m1440s\u001b[0m 14s/step - accuracy: 0.1095 - loss: 6.1464\n",
            "Epoch 50/100\n",
            "\u001b[1m100/100\u001b[0m \u001b[32m━━━━━━━━━━━━━━━━━━━━\u001b[0m\u001b[37m\u001b[0m \u001b[1m0s\u001b[0m 667us/step - accuracy: 0.0000e+00 - loss: 0.0000e+00\n",
            "Epoch 51/100\n",
            "\u001b[1m100/100\u001b[0m \u001b[32m━━━━━━━━━━━━━━━━━━━━\u001b[0m\u001b[37m\u001b[0m \u001b[1m1056s\u001b[0m 10s/step - accuracy: 0.1119 - loss: 6.1191\n",
            "Epoch 52/100\n",
            "\u001b[1m100/100\u001b[0m \u001b[32m━━━━━━━━━━━━━━━━━━━━\u001b[0m\u001b[37m\u001b[0m \u001b[1m0s\u001b[0m 150us/step - accuracy: 0.0000e+00 - loss: 0.0000e+00\n",
            "Epoch 53/100\n",
            "\u001b[1m100/100\u001b[0m \u001b[32m━━━━━━━━━━━━━━━━━━━━\u001b[0m\u001b[37m\u001b[0m \u001b[1m610s\u001b[0m 6s/step - accuracy: 0.1151 - loss: 6.0676\n",
            "Epoch 54/100\n",
            "\u001b[1m100/100\u001b[0m \u001b[32m━━━━━━━━━━━━━━━━━━━━\u001b[0m\u001b[37m\u001b[0m \u001b[1m0s\u001b[0m 177us/step - accuracy: 0.0000e+00 - loss: 0.0000e+00\n",
            "Epoch 55/100\n",
            "\u001b[1m100/100\u001b[0m \u001b[32m━━━━━━━━━━━━━━━━━━━━\u001b[0m\u001b[37m\u001b[0m \u001b[1m660s\u001b[0m 7s/step - accuracy: 0.1163 - loss: 6.0381\n",
            "Epoch 56/100\n",
            "\u001b[1m100/100\u001b[0m \u001b[32m━━━━━━━━━━━━━━━━━━━━\u001b[0m\u001b[37m\u001b[0m \u001b[1m0s\u001b[0m 0s/step - accuracy: 0.0000e+00 - loss: 0.0000e+00\n",
            "Epoch 57/100\n",
            "\u001b[1m100/100\u001b[0m \u001b[32m━━━━━━━━━━━━━━━━━━━━\u001b[0m\u001b[37m\u001b[0m \u001b[1m669s\u001b[0m 7s/step - accuracy: 0.1180 - loss: 6.0087\n",
            "Epoch 58/100\n",
            "\u001b[1m100/100\u001b[0m \u001b[32m━━━━━━━━━━━━━━━━━━━━\u001b[0m\u001b[37m\u001b[0m \u001b[1m0s\u001b[0m 79us/step - accuracy: 0.0000e+00 - loss: 0.0000e+00\n",
            "Epoch 59/100\n",
            "\u001b[1m100/100\u001b[0m \u001b[32m━━━━━━━━━━━━━━━━━━━━\u001b[0m\u001b[37m\u001b[0m \u001b[1m634s\u001b[0m 6s/step - accuracy: 0.1199 - loss: 5.9607\n",
            "Epoch 60/100\n",
            "\u001b[1m100/100\u001b[0m \u001b[32m━━━━━━━━━━━━━━━━━━━━\u001b[0m\u001b[37m\u001b[0m \u001b[1m0s\u001b[0m 65us/step - accuracy: 0.0000e+00 - loss: 0.0000e+00\n",
            "Epoch 61/100\n",
            "\u001b[1m100/100\u001b[0m \u001b[32m━━━━━━━━━━━━━━━━━━━━\u001b[0m\u001b[37m\u001b[0m \u001b[1m616s\u001b[0m 6s/step - accuracy: 0.1207 - loss: 5.9470\n",
            "Epoch 62/100\n",
            "\u001b[1m100/100\u001b[0m \u001b[32m━━━━━━━━━━━━━━━━━━━━\u001b[0m\u001b[37m\u001b[0m \u001b[1m0s\u001b[0m 80us/step - accuracy: 0.0000e+00 - loss: 0.0000e+00\n",
            "Epoch 63/100\n",
            "\u001b[1m100/100\u001b[0m \u001b[32m━━━━━━━━━━━━━━━━━━━━\u001b[0m\u001b[37m\u001b[0m \u001b[1m1856s\u001b[0m 19s/step - accuracy: 0.1236 - loss: 5.9010\n",
            "Epoch 64/100\n",
            "\u001b[1m100/100\u001b[0m \u001b[32m━━━━━━━━━━━━━━━━━━━━\u001b[0m\u001b[37m\u001b[0m \u001b[1m0s\u001b[0m 136us/step - accuracy: 0.0000e+00 - loss: 0.0000e+00\n",
            "Epoch 65/100\n",
            "\u001b[1m100/100\u001b[0m \u001b[32m━━━━━━━━━━━━━━━━━━━━\u001b[0m\u001b[37m\u001b[0m \u001b[1m615s\u001b[0m 6s/step - accuracy: 0.1243 - loss: 5.8713\n",
            "Epoch 66/100\n",
            "\u001b[1m100/100\u001b[0m \u001b[32m━━━━━━━━━━━━━━━━━━━━\u001b[0m\u001b[37m\u001b[0m \u001b[1m0s\u001b[0m 7us/step - accuracy: 0.0000e+00 - loss: 0.0000e+00\n",
            "Epoch 67/100\n",
            "\u001b[1m100/100\u001b[0m \u001b[32m━━━━━━━━━━━━━━━━━━━━\u001b[0m\u001b[37m\u001b[0m \u001b[1m664s\u001b[0m 7s/step - accuracy: 0.1256 - loss: 5.8447\n",
            "Epoch 68/100\n",
            "\u001b[1m100/100\u001b[0m \u001b[32m━━━━━━━━━━━━━━━━━━━━\u001b[0m\u001b[37m\u001b[0m \u001b[1m0s\u001b[0m 186us/step - accuracy: 0.0000e+00 - loss: 0.0000e+00\n",
            "Epoch 69/100\n",
            "\u001b[1m100/100\u001b[0m \u001b[32m━━━━━━━━━━━━━━━━━━━━\u001b[0m\u001b[37m\u001b[0m \u001b[1m723s\u001b[0m 7s/step - accuracy: 0.1266 - loss: 5.8067\n",
            "Epoch 70/100\n",
            "\u001b[1m100/100\u001b[0m \u001b[32m━━━━━━━━━━━━━━━━━━━━\u001b[0m\u001b[37m\u001b[0m \u001b[1m0s\u001b[0m 188us/step - accuracy: 0.0000e+00 - loss: 0.0000e+00\n",
            "Epoch 71/100\n",
            "\u001b[1m100/100\u001b[0m \u001b[32m━━━━━━━━━━━━━━━━━━━━\u001b[0m\u001b[37m\u001b[0m \u001b[1m609s\u001b[0m 6s/step - accuracy: 0.1281 - loss: 5.7762\n",
            "Epoch 72/100\n",
            "\u001b[1m100/100\u001b[0m \u001b[32m━━━━━━━━━━━━━━━━━━━━\u001b[0m\u001b[37m\u001b[0m \u001b[1m0s\u001b[0m 0s/step - accuracy: 0.0000e+00 - loss: 0.0000e+00\n",
            "Epoch 73/100\n",
            "\u001b[1m100/100\u001b[0m \u001b[32m━━━━━━━━━━━━━━━━━━━━\u001b[0m\u001b[37m\u001b[0m \u001b[1m595s\u001b[0m 6s/step - accuracy: 0.1297 - loss: 5.7505\n",
            "Epoch 74/100\n",
            "\u001b[1m100/100\u001b[0m \u001b[32m━━━━━━━━━━━━━━━━━━━━\u001b[0m\u001b[37m\u001b[0m \u001b[1m0s\u001b[0m 156us/step - accuracy: 0.0000e+00 - loss: 0.0000e+00\n",
            "Epoch 75/100\n",
            "\u001b[1m100/100\u001b[0m \u001b[32m━━━━━━━━━━━━━━━━━━━━\u001b[0m\u001b[37m\u001b[0m \u001b[1m648s\u001b[0m 6s/step - accuracy: 0.1318 - loss: 5.7150\n",
            "Epoch 76/100\n",
            "\u001b[1m100/100\u001b[0m \u001b[32m━━━━━━━━━━━━━━━━━━━━\u001b[0m\u001b[37m\u001b[0m \u001b[1m0s\u001b[0m 191us/step - accuracy: 0.0000e+00 - loss: 0.0000e+00\n",
            "Epoch 77/100\n",
            "\u001b[1m100/100\u001b[0m \u001b[32m━━━━━━━━━━━━━━━━━━━━\u001b[0m\u001b[37m\u001b[0m \u001b[1m619s\u001b[0m 6s/step - accuracy: 0.1323 - loss: 5.6864\n",
            "Epoch 78/100\n",
            "\u001b[1m100/100\u001b[0m \u001b[32m━━━━━━━━━━━━━━━━━━━━\u001b[0m\u001b[37m\u001b[0m \u001b[1m0s\u001b[0m 156us/step - accuracy: 0.0000e+00 - loss: 0.0000e+00\n",
            "Epoch 79/100\n",
            "\u001b[1m100/100\u001b[0m \u001b[32m━━━━━━━━━━━━━━━━━━━━\u001b[0m\u001b[37m\u001b[0m \u001b[1m603s\u001b[0m 6s/step - accuracy: 0.1327 - loss: 5.6643\n",
            "Epoch 80/100\n",
            "\u001b[1m100/100\u001b[0m \u001b[32m━━━━━━━━━━━━━━━━━━━━\u001b[0m\u001b[37m\u001b[0m \u001b[1m0s\u001b[0m 98us/step - accuracy: 0.0000e+00 - loss: 0.0000e+00\n",
            "Epoch 81/100\n",
            "\u001b[1m100/100\u001b[0m \u001b[32m━━━━━━━━━━━━━━━━━━━━\u001b[0m\u001b[37m\u001b[0m \u001b[1m597s\u001b[0m 6s/step - accuracy: 0.1358 - loss: 5.6245\n",
            "Epoch 82/100\n",
            "\u001b[1m100/100\u001b[0m \u001b[32m━━━━━━━━━━━━━━━━━━━━\u001b[0m\u001b[37m\u001b[0m \u001b[1m0s\u001b[0m 149us/step - accuracy: 0.0000e+00 - loss: 0.0000e+00\n",
            "Epoch 83/100\n",
            "\u001b[1m100/100\u001b[0m \u001b[32m━━━━━━━━━━━━━━━━━━━━\u001b[0m\u001b[37m\u001b[0m \u001b[1m597s\u001b[0m 6s/step - accuracy: 0.1368 - loss: 5.5981\n",
            "Epoch 84/100\n",
            "\u001b[1m100/100\u001b[0m \u001b[32m━━━━━━━━━━━━━━━━━━━━\u001b[0m\u001b[37m\u001b[0m \u001b[1m0s\u001b[0m 62us/step - accuracy: 0.0000e+00 - loss: 0.0000e+00\n",
            "Epoch 85/100\n",
            "\u001b[1m100/100\u001b[0m \u001b[32m━━━━━━━━━━━━━━━━━━━━\u001b[0m\u001b[37m\u001b[0m \u001b[1m594s\u001b[0m 6s/step - accuracy: 0.1379 - loss: 5.5728\n",
            "Epoch 86/100\n",
            "\u001b[1m100/100\u001b[0m \u001b[32m━━━━━━━━━━━━━━━━━━━━\u001b[0m\u001b[37m\u001b[0m \u001b[1m0s\u001b[0m 0s/step - accuracy: 0.0000e+00 - loss: 0.0000e+00\n",
            "Epoch 87/100\n",
            "\u001b[1m100/100\u001b[0m \u001b[32m━━━━━━━━━━━━━━━━━━━━\u001b[0m\u001b[37m\u001b[0m \u001b[1m597s\u001b[0m 6s/step - accuracy: 0.1392 - loss: 5.5512\n",
            "Epoch 88/100\n",
            "\u001b[1m100/100\u001b[0m \u001b[32m━━━━━━━━━━━━━━━━━━━━\u001b[0m\u001b[37m\u001b[0m \u001b[1m0s\u001b[0m 15us/step - accuracy: 0.0000e+00 - loss: 0.0000e+00\n",
            "Epoch 89/100\n",
            "\u001b[1m100/100\u001b[0m \u001b[32m━━━━━━━━━━━━━━━━━━━━\u001b[0m\u001b[37m\u001b[0m \u001b[1m594s\u001b[0m 6s/step - accuracy: 0.1400 - loss: 5.5227\n",
            "Epoch 90/100\n",
            "\u001b[1m100/100\u001b[0m \u001b[32m━━━━━━━━━━━━━━━━━━━━\u001b[0m\u001b[37m\u001b[0m \u001b[1m0s\u001b[0m 0s/step - accuracy: 0.0000e+00 - loss: 0.0000e+00\n",
            "Epoch 91/100\n",
            "\u001b[1m100/100\u001b[0m \u001b[32m━━━━━━━━━━━━━━━━━━━━\u001b[0m\u001b[37m\u001b[0m \u001b[1m598s\u001b[0m 6s/step - accuracy: 0.1407 - loss: 5.4979\n",
            "Epoch 92/100\n",
            "\u001b[1m100/100\u001b[0m \u001b[32m━━━━━━━━━━━━━━━━━━━━\u001b[0m\u001b[37m\u001b[0m \u001b[1m0s\u001b[0m 0s/step - accuracy: 0.0000e+00 - loss: 0.0000e+00\n",
            "Epoch 93/100\n",
            "\u001b[1m100/100\u001b[0m \u001b[32m━━━━━━━━━━━━━━━━━━━━\u001b[0m\u001b[37m\u001b[0m \u001b[1m687s\u001b[0m 7s/step - accuracy: 0.1409 - loss: 5.4755\n",
            "Epoch 94/100\n",
            "\u001b[1m100/100\u001b[0m \u001b[32m━━━━━━━━━━━━━━━━━━━━\u001b[0m\u001b[37m\u001b[0m \u001b[1m0s\u001b[0m 0s/step - accuracy: 0.0000e+00 - loss: 0.0000e+00\n",
            "Epoch 95/100\n",
            "\u001b[1m100/100\u001b[0m \u001b[32m━━━━━━━━━━━━━━━━━━━━\u001b[0m\u001b[37m\u001b[0m \u001b[1m676s\u001b[0m 7s/step - accuracy: 0.1437 - loss: 5.4415\n",
            "Epoch 96/100\n",
            "\u001b[1m100/100\u001b[0m \u001b[32m━━━━━━━━━━━━━━━━━━━━\u001b[0m\u001b[37m\u001b[0m \u001b[1m0s\u001b[0m 156us/step - accuracy: 0.0000e+00 - loss: 0.0000e+00\n",
            "Epoch 97/100\n",
            "\u001b[1m100/100\u001b[0m \u001b[32m━━━━━━━━━━━━━━━━━━━━\u001b[0m\u001b[37m\u001b[0m \u001b[1m676s\u001b[0m 7s/step - accuracy: 0.1451 - loss: 5.4158\n",
            "Epoch 98/100\n",
            "\u001b[1m100/100\u001b[0m \u001b[32m━━━━━━━━━━━━━━━━━━━━\u001b[0m\u001b[37m\u001b[0m \u001b[1m0s\u001b[0m 0s/step - accuracy: 0.0000e+00 - loss: 0.0000e+00\n",
            "Epoch 99/100\n",
            "\u001b[1m100/100\u001b[0m \u001b[32m━━━━━━━━━━━━━━━━━━━━\u001b[0m\u001b[37m\u001b[0m \u001b[1m694s\u001b[0m 7s/step - accuracy: 0.1453 - loss: 5.3927\n",
            "Epoch 100/100\n",
            "\u001b[1m100/100\u001b[0m \u001b[32m━━━━━━━━━━━━━━━━━━━━\u001b[0m\u001b[37m\u001b[0m \u001b[1m0s\u001b[0m 168us/step - accuracy: 0.0000e+00 - loss: 0.0000e+00\n"
          ]
        },
        {
          "data": {
            "text/plain": [
              "<keras.src.callbacks.history.History at 0x1f82aff22a0>"
            ]
          },
          "execution_count": 12,
          "metadata": {},
          "output_type": "execute_result"
        }
      ],
      "source": [
        "# compile the model\n",
        "model.compile(loss='sparse_categorical_crossentropy', optimizer='adam', metrics=['accuracy'])\n",
        "\n",
        "# Fit the model\n",
        "model.fit(x, y, epochs=100, steps_per_epoch=100, verbose=1)\n"
      ]
    },
    {
      "cell_type": "markdown",
      "metadata": {
        "id": "pzqPh9fIkl5y"
      },
      "source": [
        "# Model Prediction"
      ]
    },
    {
      "cell_type": "code",
      "execution_count": 23,
      "metadata": {
        "id": "fFPvLZ7CklKa"
      },
      "outputs": [
        {
          "name": "stdout",
          "output_type": "stream",
          "text": [
            "you\n",
            "favorite\n",
            "be\n"
          ]
        }
      ],
      "source": [
        "# Complete the following prediction function\n",
        "\n",
        "# Prediction function\n",
        "def predict_next_word(text):\n",
        "    predicted_word = ''\n",
        "\n",
        "\n",
        "    # YOUR CODE HERE\n",
        "\n",
        "    token_list = tokenizer.texts_to_sequences([text])[0]\n",
        "    token_list = pad_sequences([token_list], maxlen=max_sequence_len - 1, padding='pre')\n",
        "    predicted = model.predict(token_list, verbose=0)\n",
        "    predicted_word_index = np.argmax(predicted, axis=1)[0]\n",
        "    predicted_word = tokenizer.index_word[predicted_word_index]\n",
        "\n",
        "\n",
        "    return predicted_word\n",
        "\n",
        "\n",
        "# test the model\n",
        "print(predict_next_word(\"how are\")) # you\n",
        "\n",
        "print(predict_next_word(\"what is your\")) # favorite\n",
        "\n",
        "print(predict_next_word(\"what do you want to\")) # become\n"
      ]
    },
    {
      "cell_type": "markdown",
      "metadata": {
        "id": "I0loxGmLlBoN"
      },
      "source": [
        "# Play with it !"
      ]
    },
    {
      "cell_type": "code",
      "execution_count": 28,
      "metadata": {
        "id": "P5wnINJwlFcP"
      },
      "outputs": [
        {
          "name": "stdout",
          "output_type": "stream",
          "text": [
            "A great day to the best time for a new time\n"
          ]
        }
      ],
      "source": [
        "text = \"A\" # starting text\n",
        "for _ in range(10): # generate the next 10 words\n",
        "  next = predict_next_word(text)\n",
        "  text = text + \" \" + next\n",
        "\n",
        "print(text)\n"
      ]
    }
  ],
  "metadata": {
    "accelerator": "GPU",
    "colab": {
      "gpuType": "T4",
      "include_colab_link": true,
      "provenance": []
    },
    "kernelspec": {
      "display_name": "Python 3",
      "name": "python3"
    },
    "language_info": {
      "codemirror_mode": {
        "name": "ipython",
        "version": 3
      },
      "file_extension": ".py",
      "mimetype": "text/x-python",
      "name": "python",
      "nbconvert_exporter": "python",
      "pygments_lexer": "ipython3",
      "version": "3.12.3"
    }
  },
  "nbformat": 4,
  "nbformat_minor": 0
}
